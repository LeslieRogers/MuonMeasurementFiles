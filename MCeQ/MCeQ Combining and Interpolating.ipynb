{
 "cells": [
  {
   "cell_type": "code",
   "execution_count": 1,
   "id": "4bbf3c1a",
   "metadata": {},
   "outputs": [],
   "source": [
    "import pylab as plt\n",
    "import numpy as np\n",
    "import pandas as pd\n",
    "import matplotlib as mpl\n",
    "#import proposal as pp  #installed with pip\n",
    "import scipy\n",
    "from scipy import interpolate\n",
    "from scipy.interpolate import InterpolatedUnivariateSpline\n",
    "from scipy.interpolate import interp2d\n",
    "import scipy.integrate as integrate\n",
    "# matplotlib used plotting. Not required to run the code.\n",
    "import matplotlib.pyplot as plt\n",
    "import re\n",
    "import sys\n",
    "import glob\n",
    "#from MCEq.core import config, MCEqRun\n",
    "#import crflux.models as crf\n",
    "import random\n",
    "try:\n",
    "    import cPickle as pickle\n",
    "except ImportError:\n",
    "    import pickle"
   ]
  },
  {
   "cell_type": "code",
   "execution_count": 3,
   "id": "88d84814",
   "metadata": {},
   "outputs": [],
   "source": [
    "r=0\n",
    "\n",
    "#pull in all of the MCeQoutputs to put into one dataframe\n",
    "for files in glob.glob('/Users/rogerslc/Documents/MuFluxPred/NewInteractionModel/MCeQouput*.h5'):\n",
    "\n",
    "    if r==0:\n",
    "        mussimData=pd.read_hdf(files)\n",
    "\n",
    "        r+=1\n",
    "    else:\n",
    "        df=pd.read_hdf(files)\n",
    "\n",
    "        mussimData=mussimData.append(df, ignore_index=True)\n",
    "        \n",
    "mussimData=mussimData.rename(columns={\"theta\": \"alpha\", \"phis\":  \"beta\"})\n",
    "        \n",
    "#mussimData=pd.read_hdf('/Users/rogerslc/Documents/MuFluxPred/MCeQoutputJustValidRegion.h5','Muons')\n",
    "\n",
    "mussimData.beta=np.deg2rad(mussimData.beta)\n",
    "mussimData.alpha=np.deg2rad(mussimData.alpha)"
   ]
  },
  {
   "cell_type": "code",
   "execution_count": 4,
   "id": "f7653e29",
   "metadata": {},
   "outputs": [],
   "source": [
    "#need a list of alphas and betas to interpolate between\n",
    "listofpoints_alpha=[]\n",
    "listofpoints_beta=[]\n",
    "tmpdict={}\n",
    "alphas = mussimData.alpha\n",
    "betas = mussimData.beta\n",
    "\n",
    "for i in range(0,len(alphas)):\n",
    "     tmpdict[alphas[i],betas[i]]=True\n",
    "\n",
    "AllAlphasBetas=tmpdict.keys()\n",
    "for k in AllAlphasBetas:\n",
    "    listofpoints_alpha.append(k[0])\n",
    "    listofpoints_beta.append(k[1])\n",
    "    \n",
    "    \n",
    "UnitVectors=[]\n",
    "d2r=1\n",
    "\n",
    "# Make 3D unit vectors on the sphere for each point available\n",
    "for i in range(0, len(listofpoints_alpha)):\n",
    "    UnitVectors.append([np.sin(listofpoints_alpha[i]*d2r)*np.cos(listofpoints_beta[i]*d2r),np.sin(listofpoints_alpha[i]*d2r)*np.sin(listofpoints_beta[i]*d2r),np.cos(listofpoints_alpha[i]*d2r)]) "
   ]
  },
  {
   "cell_type": "code",
   "execution_count": 5,
   "id": "0ce31bb3",
   "metadata": {},
   "outputs": [],
   "source": [
    "#This function finds the closest available (a,b) on the sphere to the one we have provided\n",
    "def ClosestPoint(a,b):\n",
    "    ThisUnitVector=[np.sin(a)*np.cos(b),np.sin(a)*np.sin(b),np.cos(a)]\n",
    "    dotprods=[np.abs(ThisUnitVector[0]*UnitVectors[i][0]+ThisUnitVector[1]*UnitVectors[i][1]+ThisUnitVector[2]*UnitVectors[i][2]) for i in range(0,len(UnitVectors))]\n",
    "    closest=np.argmax(dotprods)\n",
    "    return listofpoints_alpha[closest],listofpoints_beta[closest],closest"
   ]
  },
  {
   "cell_type": "code",
   "execution_count": 6,
   "id": "5207e93b",
   "metadata": {},
   "outputs": [],
   "source": [
    "#Get a continously interpolated F(E) function for nearest a and b\n",
    "def GetEnergyFunction(a,b,EPower=3):\n",
    "    ECut=1e5\n",
    "    besta,bestb,idx=ClosestPoint(a,b)\n",
    "    dataSubSet=mussimData[(mussimData.alpha==besta) & (mussimData.beta==bestb) & (mussimData.Energies<ECut)]\n",
    "    interpfun= interpolate.interp1d(dataSubSet.Energies,dataSubSet.MuFLux)\n",
    "    returnfunction=lambda E: interpfun(E)/E**EPower\n",
    "    return returnfunction"
   ]
  },
  {
   "cell_type": "code",
   "execution_count": 7,
   "id": "0599fa5c",
   "metadata": {},
   "outputs": [],
   "source": [
    "#Integrate the continuous flux function near to (a,b) between these limits\n",
    "def GetFluxIntegral(a,b,EMin,EMax):\n",
    "    EnergyFunction=GetEnergyFunction(a,b)\n",
    "    return integrate.quad(EnergyFunction,EMin,EMax)"
   ]
  },
  {
   "cell_type": "code",
   "execution_count": 8,
   "id": "59ade1e0",
   "metadata": {},
   "outputs": [],
   "source": [
    "#energies to get fluxes over. Change this to match the energies Proposal had been run over\n",
    "BinCenters=np.array([100,300,400,450,500,550,600,650,700,800,1000,2000,4000,6000])\n",
    "\n",
    "\n",
    "EBins=(BinCenters[1:]+BinCenters[:-1])/2"
   ]
  },
  {
   "cell_type": "code",
   "execution_count": 9,
   "id": "f2b2fac0",
   "metadata": {},
   "outputs": [
    {
     "name": "stdout",
     "output_type": "stream",
     "text": [
      "Integrating fluxes for 200.0 < E < 350.0\n",
      "Integrating fluxes for 350.0 < E < 425.0\n"
     ]
    }
   ],
   "source": [
    "#Get muon fluxes vs energy mesh\n",
    "numofstps=50\n",
    "cosa_sample=np.linspace(0,1,numofstps)\n",
    "a_sample=np.arccos(cosa_sample)\n",
    "b_sample=np.linspace(-np.pi,np.pi,numofstps)\n",
    "cosa_mesh, b_mesh=np.meshgrid(cosa_sample,b_sample)\n",
    "fluxmeshes=[]\n",
    "\n",
    "\n",
    "#for iE in range(0,len(EBins)-1):\n",
    "for iE in range(0,2):\n",
    "\n",
    "    fluxmesh = np.zeros_like(cosa_mesh)\n",
    "    print(\"Integrating fluxes for \"+ str(EBins[iE])+ \" < E < \" + str(EBins[iE+1]))\n",
    "    for ia in range(0,len(a_sample)):\n",
    "        for ib in range(0,len(b_sample)):\n",
    "            a=a_sample[ia]\n",
    "            b=b_sample[ib]\n",
    "            fluxmesh[ia,ib] = GetFluxIntegral(a,b,EBins[iE],EBins[iE+1])[0]\n",
    "    fluxmeshes.append(fluxmesh)"
   ]
  },
  {
   "cell_type": "code",
   "execution_count": 10,
   "id": "183d7d30",
   "metadata": {},
   "outputs": [
    {
     "data": {
      "text/plain": [
       "'f=open(\"./MCEqFluxMeshes.pkl\",\"wb\")\\npickle.dump([BinCenters,cosa_sample,b_sample,fluxmeshes_fine],f)\\nf.close()'"
      ]
     },
     "execution_count": 10,
     "metadata": {},
     "output_type": "execute_result"
    }
   ],
   "source": [
    "#save the output\n",
    "f=open(\"./MCEqFluxMeshes.pkl\",\"wb\")\n",
    "pickle.dump([BinCenters,cosa_sample,b_sample,fluxmeshes_fine],f)\n",
    "f.close()"
   ]
  },
  {
   "cell_type": "code",
   "execution_count": 18,
   "id": "87242f9d",
   "metadata": {},
   "outputs": [
    {
     "data": {
      "text/plain": [
       "\"with open('./MCeQ_Muons_interpolator_ALL.pkl', 'wb') as f:\\n    pickle.dump(FluxMuons, f)\""
      ]
     },
     "execution_count": 18,
     "metadata": {},
     "output_type": "execute_result"
    }
   ],
   "source": [
    "#these are for creating the interpolation function between all alpha and energy\n",
    "\n",
    "k=mussimData.alpha.unique()\n",
    "k.sort()\n",
    "\n",
    "df=mussimData[(mussimData.MuFLux>10**-9)]\n",
    "Es=df.Energies.unique()\n",
    "Es.sort()\n",
    "    \n",
    "alt=1431   \n",
    "flxs=[] \n",
    "for alpha in k:\n",
    "\n",
    "    for nrg in Es:\n",
    "        flxs.append(mussimData[(mussimData.alpha==alpha)&(mussimData.Energies==nrg)].MuFLux.iloc[0])           \n",
    "\n",
    "        \n",
    "flxarray=np.array(flxs)\n",
    "flxarray = flxarray.reshape(len(k), len(Es))\n",
    "FluxMuons=scipy.interpolate.RectBivariateSpline(k,Es,flxarray,s=0,kx=3, ky=3)\n",
    "\n"
   ]
  },
  {
   "cell_type": "code",
   "execution_count": null,
   "id": "73f9759e",
   "metadata": {},
   "outputs": [],
   "source": [
    "#save interpolation function\n",
    "with open('./MCeQ_Muons_interpolator_ALL.pkl', 'wb') as f:\n",
    "    pickle.dump(FluxMuons, f)"
   ]
  }
 ],
 "metadata": {
  "kernelspec": {
   "display_name": "Python 3 (ipykernel)",
   "language": "python",
   "name": "python3"
  },
  "language_info": {
   "codemirror_mode": {
    "name": "ipython",
    "version": 3
   },
   "file_extension": ".py",
   "mimetype": "text/x-python",
   "name": "python",
   "nbconvert_exporter": "python",
   "pygments_lexer": "ipython3",
   "version": "3.9.6"
  }
 },
 "nbformat": 4,
 "nbformat_minor": 5
}
